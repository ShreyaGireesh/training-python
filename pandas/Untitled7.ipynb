{
 "cells": [
  {
   "cell_type": "code",
   "execution_count": null,
   "id": "7ebc8d9f-2af7-428e-8ba3-2d692a626f8e",
   "metadata": {},
   "outputs": [],
   "source": []
  }
 ],
 "metadata": {
  "kernelspec": {
   "display_name": "",
   "name": ""
  },
  "language_info": {
   "name": ""
  }
 },
 "nbformat": 4,
 "nbformat_minor": 5
}
