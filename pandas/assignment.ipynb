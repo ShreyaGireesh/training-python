{
 "cells": [
  {
   "cell_type": "code",
   "execution_count": 1,
   "id": "fe238cf5-0461-461a-9e3b-3b76359b81e4",
   "metadata": {},
   "outputs": [
    {
     "name": "stdout",
     "output_type": "stream",
     "text": [
      "   name  age\n",
      "0   Amy   24\n",
      "1  John   26\n"
     ]
    }
   ],
   "source": [
    "import pandas as pd\n",
    "data = {\n",
    "    'name':['Amy', 'John'],\n",
    "    'age':[24, 26]\n",
    "}\n",
    "df = pd.DataFrame(data)\n",
    "print(df)"
   ]
  },
  {
   "cell_type": "code",
   "execution_count": null,
   "id": "b185d415-a780-47bf-857e-95df046c5dfb",
   "metadata": {},
   "outputs": [],
   "source": [
    "data = {\n",
    "\n",
    "'Name': ['John', 'Anna', 'Peter', 'Linda', 'Sophia'],\n",
    "\n",
    "'Age': [28, 24, 40, 33, 25],\n",
    "\n",
    "'Salary': [50000, 55000, 60000, 70000, 65000],\n",
    "\n",
    "'Join Date': ['2015-03-15', '2017-07-01', '2018-01-12', '2016-08-05', '2019-11-19'],\n",
    "\n",
    "'Department': ['HR', 'Finance', 'HR', 'IT', 'Finance'],\n",
    "\n",
    "'Gender': ['Male', 'Female', 'Male', 'Female', 'Female']\n",
    "\n",
    "}\n",
    "\n",
    "\n",
    "df = pd.DataFrame(data)\n"
   ]
  },
  {
   "cell_type": "markdown",
   "id": "048e23cb-6801-41cb-bc47-46f469942c49",
   "metadata": {},
   "source": [
    "How to aggregate multiple statistics on a column (e.g., calculate mean, max, and min salary by Age)?"
   ]
  },
  {
   "cell_type": "code",
   "execution_count": 2,
   "id": "2b1bbc2f-2b54-4569-84d4-204138a110cd",
   "metadata": {},
   "outputs": [
    {
     "name": "stdout",
     "output_type": "stream",
     "text": [
      "     Name   Age  Salary   Join Date Department  Gender\n",
      "0    John  28.0   50000  2015-03-15         HR    Male\n",
      "1    Anna  24.0   55000  2017-07-01    Finance  Female\n",
      "2    None  40.0   60000  2018-01-12         HR    Male\n",
      "3   Linda   NaN   70000  2016-08-05         IT  Female\n",
      "4  Sophia  25.0   65000  2019-11-19    Finance  Female\n",
      "1. fill missing values in a column with a specific value (e.g., 'Unknown' for Name)\n",
      "\n",
      "     Name   Age  Salary   Join Date Department  Gender\n",
      "0    John  28.0   50000  2015-03-15         HR    Male\n",
      "1    Anna  24.0   55000  2017-07-01    Finance  Female\n",
      "2    None  40.0   60000  2018-01-12         HR    Male\n",
      "3   Linda   NaN   70000  2016-08-05         IT  Female\n",
      "4  Sophia  25.0   65000  2019-11-19    Finance  Female\n",
      "2. fill missing numerical values in a column with the mean of that column\n",
      "\n",
      "     Name   Age  Salary   Join Date Department  Gender\n",
      "0    John  28.0   50000  2015-03-15         HR    Male\n",
      "1    Anna  24.0   55000  2017-07-01    Finance  Female\n",
      "2    None  40.0   60000  2018-01-12         HR    Male\n",
      "3   Linda   NaN   70000  2016-08-05         IT  Female\n",
      "4  Sophia  25.0   65000  2019-11-19    Finance  Female\n",
      "3. rows with missing values be removed from a Pandas DataFrame\n",
      "     Name   Age  Salary   Join Date Department  Gender\n",
      "0    John  28.0   50000  2015-03-15         HR    Male\n",
      "1    Anna  24.0   55000  2017-07-01    Finance  Female\n",
      "2    None  40.0   60000  2018-01-12         HR    Male\n",
      "3   Linda   NaN   70000  2016-08-05         IT  Female\n",
      "4  Sophia  25.0   65000  2019-11-19    Finance  Female\n"
     ]
    }
   ],
   "source": [
    "%run assignment1.py"
   ]
  },
  {
   "cell_type": "code",
   "execution_count": 4,
   "id": "4ee961ac-2f54-41dd-a923-1da296e71c93",
   "metadata": {},
   "outputs": [
    {
     "name": "stdout",
     "output_type": "stream",
     "text": [
      "     Name  Age  Salary   Join Date Department  Gender\n",
      "0    John   28   50000  2015-03-15         HR    Male\n",
      "1    Anna   24   55000  2017-07-01    Finance  Female\n",
      "2   Peter   40   60000  2018-01-12         HR    Male\n",
      "3   Linda   33   70000  2016-08-05         IT  Female\n",
      "4  Sophia   25   65000  2019-11-19    Finance  Female\n"
     ]
    }
   ],
   "source": [
    "data = {\n",
    "\n",
    "'Name': ['John', 'Anna', 'Peter', 'Linda', 'Sophia'],\n",
    "\n",
    "'Age': [28, 24, 40, 33, 25],\n",
    "\n",
    "'Salary': [50000, 55000, 60000, 70000, 65000],\n",
    "\n",
    "'Join Date': ['2015-03-15', '2017-07-01', '2018-01-12', '2016-08-05', '2019-11-19'],\n",
    "\n",
    "'Department': ['HR', 'Finance', 'HR', 'IT', 'Finance'],\n",
    "\n",
    "'Gender': ['Male', 'Female', 'Male', 'Female', 'Female']\n",
    "\n",
    "}\n",
    "\n",
    "\n",
    "df = pd.DataFrame(data)\n",
    "print(df)"
   ]
  },
  {
   "cell_type": "markdown",
   "id": "08933b0a-df8e-42fc-b152-929f88c15b00",
   "metadata": {},
   "source": [
    "__How to convert a column to a specific format (e.g., convert a date column to datetime format)?__"
   ]
  },
  {
   "cell_type": "code",
   "execution_count": 5,
   "id": "bf8f7f03-e833-4370-8e68-bcdffce8cd67",
   "metadata": {},
   "outputs": [
    {
     "name": "stdout",
     "output_type": "stream",
     "text": [
      "Name                  object\n",
      "Age                    int64\n",
      "Salary                 int64\n",
      "Join Date     datetime64[ns]\n",
      "Department            object\n",
      "Gender                object\n",
      "dtype: object\n"
     ]
    }
   ],
   "source": [
    "df['Join Date'] = pd.to_datetime(df['Join Date'])\n",
    "print(df.dtypes)"
   ]
  },
  {
   "cell_type": "markdown",
   "id": "e2908b8a-f078-4774-ae65-67dc4675ca30",
   "metadata": {},
   "source": [
    "__How to filter the data based on a condition (e.g., age > 25)?__"
   ]
  },
  {
   "cell_type": "code",
   "execution_count": 6,
   "id": "c8637a74-e679-4be8-a99a-86bab11b1430",
   "metadata": {},
   "outputs": [
    {
     "name": "stdout",
     "output_type": "stream",
     "text": [
      "    Name  Age  Salary  Join Date Department  Gender\n",
      "0   John   28   50000 2015-03-15         HR    Male\n",
      "2  Peter   40   60000 2018-01-12         HR    Male\n",
      "3  Linda   33   70000 2016-08-05         IT  Female\n"
     ]
    }
   ],
   "source": [
    "print(df[df['Age'] > 25])"
   ]
  },
  {
   "cell_type": "markdown",
   "id": "f3763f74-328d-4c38-bc56-9b269d5f5e04",
   "metadata": {},
   "source": [
    "__How to filter the data based on a specific value (e.g., get all rows where Name is 'Anna')?__"
   ]
  },
  {
   "cell_type": "code",
   "execution_count": 7,
   "id": "ce129116-fa10-47f9-a021-9a670570ec77",
   "metadata": {},
   "outputs": [
    {
     "name": "stdout",
     "output_type": "stream",
     "text": [
      "   Name  Age  Salary  Join Date Department  Gender\n",
      "1  Anna   24   55000 2017-07-01    Finance  Female\n"
     ]
    }
   ],
   "source": [
    "print(df[df['Name'] == 'Anna'])"
   ]
  },
  {
   "cell_type": "markdown",
   "id": "c7cdc8bd-9827-43b0-91da-504d4da78988",
   "metadata": {},
   "source": [
    "__How to select specific columns in the DataFrame (e.g., Name and Salary columns)?__\n"
   ]
  },
  {
   "cell_type": "code",
   "execution_count": 8,
   "id": "78322a1e-a803-4ae0-8e04-f1d831381efd",
   "metadata": {},
   "outputs": [
    {
     "name": "stdout",
     "output_type": "stream",
     "text": [
      "     Name  Salary\n",
      "0    John   50000\n",
      "1    Anna   55000\n",
      "2   Peter   60000\n",
      "3   Linda   70000\n",
      "4  Sophia   65000 \n",
      "\n"
     ]
    }
   ],
   "source": [
    "print(df[['Name', 'Salary']], \"\\n\")"
   ]
  },
  {
   "cell_type": "markdown",
   "id": "7e496f4b-6a09-4212-85a7-c3842f7587b2",
   "metadata": {},
   "source": [
    "__How to select specific rows (e.g., first 3 rows)?__"
   ]
  },
  {
   "cell_type": "code",
   "execution_count": 9,
   "id": "53b82786-5e36-4831-bea8-b4081b146abb",
   "metadata": {},
   "outputs": [
    {
     "name": "stdout",
     "output_type": "stream",
     "text": [
      "    Name  Age  Salary  Join Date Department  Gender\n",
      "0   John   28   50000 2015-03-15         HR    Male\n",
      "1   Anna   24   55000 2017-07-01    Finance  Female\n",
      "2  Peter   40   60000 2018-01-12         HR    Male\n"
     ]
    }
   ],
   "source": [
    "print(df.head(3))"
   ]
  },
  {
   "cell_type": "markdown",
   "id": "57d54af9-e865-4c4d-adfa-2bfb0f443d74",
   "metadata": {},
   "source": [
    "__How to get the rows by index positions (e.g., using .iloc[])?__"
   ]
  },
  {
   "cell_type": "code",
   "execution_count": 10,
   "id": "c3e000fe-9f22-4d3b-a6c9-30e2babb0bc9",
   "metadata": {},
   "outputs": [
    {
     "name": "stdout",
     "output_type": "stream",
     "text": [
      "    Name  Age  Salary  Join Date Department  Gender\n",
      "1   Anna   24   55000 2017-07-01    Finance  Female\n",
      "3  Linda   33   70000 2016-08-05         IT  Female\n"
     ]
    }
   ],
   "source": [
    "print(df.iloc[[1, 3]])"
   ]
  },
  {
   "cell_type": "markdown",
   "id": "0c3f3541-87cb-4f47-b03c-f9979a102919",
   "metadata": {},
   "source": [
    "__How to sort the data by a specific column in ascending order (e.g., Age)?__"
   ]
  },
  {
   "cell_type": "code",
   "execution_count": 11,
   "id": "72a1b590-572f-4bd3-bcd5-288252e2c11e",
   "metadata": {},
   "outputs": [
    {
     "name": "stdout",
     "output_type": "stream",
     "text": [
      "     Name  Age  Salary  Join Date Department  Gender\n",
      "1    Anna   24   55000 2017-07-01    Finance  Female\n",
      "4  Sophia   25   65000 2019-11-19    Finance  Female\n",
      "0    John   28   50000 2015-03-15         HR    Male\n",
      "3   Linda   33   70000 2016-08-05         IT  Female\n",
      "2   Peter   40   60000 2018-01-12         HR    Male\n"
     ]
    }
   ],
   "source": [
    "print(df.sort_values(by='Age'))"
   ]
  },
  {
   "cell_type": "markdown",
   "id": "b5a005bc-ff61-4ffc-8e4f-35b6f716758e",
   "metadata": {},
   "source": [
    "__How to sort the data by a column in descending order (e.g., Salary)?__"
   ]
  },
  {
   "cell_type": "code",
   "execution_count": 12,
   "id": "627d4798-e7b7-4593-aaf4-a44739924e31",
   "metadata": {},
   "outputs": [
    {
     "name": "stdout",
     "output_type": "stream",
     "text": [
      "     Name  Age  Salary  Join Date Department  Gender\n",
      "3   Linda   33   70000 2016-08-05         IT  Female\n",
      "4  Sophia   25   65000 2019-11-19    Finance  Female\n",
      "2   Peter   40   60000 2018-01-12         HR    Male\n",
      "1    Anna   24   55000 2017-07-01    Finance  Female\n",
      "0    John   28   50000 2015-03-15         HR    Male\n"
     ]
    }
   ],
   "source": [
    "print(df.sort_values(by='Salary', ascending=False))"
   ]
  },
  {
   "cell_type": "markdown",
   "id": "693b362d-c58b-4551-b6cf-9eb080930066",
   "metadata": {},
   "source": [
    "__How to group data by a specific column (e.g., Age) and calculate the average salary for each group?__"
   ]
  },
  {
   "cell_type": "code",
   "execution_count": 13,
   "id": "2108394d-f5c0-47a6-b22e-1146a341be98",
   "metadata": {},
   "outputs": [
    {
     "name": "stdout",
     "output_type": "stream",
     "text": [
      "Age\n",
      "24    55000.0\n",
      "25    65000.0\n",
      "28    50000.0\n",
      "33    70000.0\n",
      "40    60000.0\n",
      "Name: Salary, dtype: float64\n"
     ]
    }
   ],
   "source": [
    "print(df.groupby('Age')['Salary'].mean())"
   ]
  },
  {
   "cell_type": "markdown",
   "id": "887ff7ce-c041-4c15-b3fd-299585fa3dcc",
   "metadata": {},
   "source": [
    "__How to aggregate multiple statistics on a column (e.g., calculate mean, max, and min salary by Age)?__"
   ]
  },
  {
   "cell_type": "code",
   "execution_count": 14,
   "id": "b6b3ca61-d787-4f7e-9c51-ddd985ea7006",
   "metadata": {},
   "outputs": [
    {
     "name": "stdout",
     "output_type": "stream",
     "text": [
      "        mean    max    min\n",
      "Age                       \n",
      "24   55000.0  55000  55000\n",
      "25   65000.0  65000  65000\n",
      "28   50000.0  50000  50000\n",
      "33   70000.0  70000  70000\n",
      "40   60000.0  60000  60000\n"
     ]
    }
   ],
   "source": [
    "print(df.groupby('Age')['Salary'].agg(['mean', 'max', 'min']))"
   ]
  },
  {
   "cell_type": "markdown",
   "id": "1bf4b8b5-cdd2-48e9-a96d-bb32fae6a884",
   "metadata": {},
   "source": [
    "__How to apply a function to modify a column (e.g., increasing the salary by 10%) using apply()?__"
   ]
  },
  {
   "cell_type": "code",
   "execution_count": 15,
   "id": "c8d7aa88-a835-4352-8e52-f71bcfc863a7",
   "metadata": {},
   "outputs": [
    {
     "name": "stdout",
     "output_type": "stream",
     "text": [
      "     Name  Age  Salary  Join Date Department  Gender  Updated Salary\n",
      "0    John   28   50000 2015-03-15         HR    Male         55000.0\n",
      "1    Anna   24   55000 2017-07-01    Finance  Female         60500.0\n",
      "2   Peter   40   60000 2018-01-12         HR    Male         66000.0\n",
      "3   Linda   33   70000 2016-08-05         IT  Female         77000.0\n",
      "4  Sophia   25   65000 2019-11-19    Finance  Female         71500.0\n"
     ]
    }
   ],
   "source": [
    "df['Updated Salary'] = df['Salary'].apply(lambda x: x * 1.10)\n",
    "print(df)"
   ]
  },
  {
   "cell_type": "markdown",
   "id": "3f0a689d-fb8d-42cd-aa4d-c0cf1d3cbbe1",
   "metadata": {},
   "source": [
    "__How to add a new column to the DataFrame (e.g., adding a column for Bonus)?__"
   ]
  },
  {
   "cell_type": "code",
   "execution_count": 16,
   "id": "6a12ebca-8206-4d1d-9570-014fad9a774b",
   "metadata": {},
   "outputs": [
    {
     "name": "stdout",
     "output_type": "stream",
     "text": [
      "     Name  Age  Salary  Join Date Department  Gender  Updated Salary   Bonus\n",
      "0    John   28   50000 2015-03-15         HR    Male         55000.0  2500.0\n",
      "1    Anna   24   55000 2017-07-01    Finance  Female         60500.0  2750.0\n",
      "2   Peter   40   60000 2018-01-12         HR    Male         66000.0  3000.0\n",
      "3   Linda   33   70000 2016-08-05         IT  Female         77000.0  3500.0\n",
      "4  Sophia   25   65000 2019-11-19    Finance  Female         71500.0  3250.0\n"
     ]
    }
   ],
   "source": [
    "df['Bonus'] = df['Salary'] * 0.05\n",
    "print(df)"
   ]
  },
  {
   "cell_type": "markdown",
   "id": "5f53d28b-356a-435e-92eb-2a4212cdf81a",
   "metadata": {},
   "source": [
    "__How to rename columns in the DataFrame (e.g., renaming Join Date to Joining Date)?__"
   ]
  },
  {
   "cell_type": "code",
   "execution_count": 17,
   "id": "7c2aad05-b8f6-4181-befc-4314ceb0d8dd",
   "metadata": {},
   "outputs": [
    {
     "name": "stdout",
     "output_type": "stream",
     "text": [
      "     Name  Age  Salary Joining Date Department  Gender  Updated Salary   Bonus\n",
      "0    John   28   50000   2015-03-15         HR    Male         55000.0  2500.0\n",
      "1    Anna   24   55000   2017-07-01    Finance  Female         60500.0  2750.0\n",
      "2   Peter   40   60000   2018-01-12         HR    Male         66000.0  3000.0\n",
      "3   Linda   33   70000   2016-08-05         IT  Female         77000.0  3500.0\n",
      "4  Sophia   25   65000   2019-11-19    Finance  Female         71500.0  3250.0\n"
     ]
    }
   ],
   "source": [
    "df.rename(columns={'Join Date': 'Joining Date'}, inplace=True)\n",
    "print(df)"
   ]
  },
  {
   "cell_type": "markdown",
   "id": "f086d6fc-81de-4ec1-95ba-0f2b4e3a6c3d",
   "metadata": {},
   "source": [
    "__How to drop a specific column from the DataFrame (e.g., dropping the Bonus column)?__"
   ]
  },
  {
   "cell_type": "code",
   "execution_count": 18,
   "id": "33db7e84-5167-4444-a23e-b25471b2ca45",
   "metadata": {},
   "outputs": [
    {
     "name": "stdout",
     "output_type": "stream",
     "text": [
      "     Name  Age  Salary Joining Date Department  Gender  Updated Salary\n",
      "0    John   28   50000   2015-03-15         HR    Male         55000.0\n",
      "1    Anna   24   55000   2017-07-01    Finance  Female         60500.0\n",
      "2   Peter   40   60000   2018-01-12         HR    Male         66000.0\n",
      "3   Linda   33   70000   2016-08-05         IT  Female         77000.0\n",
      "4  Sophia   25   65000   2019-11-19    Finance  Female         71500.0\n"
     ]
    }
   ],
   "source": [
    "df.drop(columns=['Bonus'], inplace=True)\n",
    "print(df)"
   ]
  },
  {
   "cell_type": "markdown",
   "id": "9ae9f11a-cf8d-4e31-a5e7-1abade13be54",
   "metadata": {},
   "source": [
    "__How to add a new categorical column, Job Role, to the DataFrame?__"
   ]
  },
  {
   "cell_type": "code",
   "execution_count": 19,
   "id": "8d2cddb4-bfee-4d46-bb48-e4938af980c7",
   "metadata": {},
   "outputs": [
    {
     "name": "stdout",
     "output_type": "stream",
     "text": [
      "     Name  Age  Salary Joining Date Department  Gender  Updated Salary  \\\n",
      "0    John   28   50000   2015-03-15         HR    Male         55000.0   \n",
      "1    Anna   24   55000   2017-07-01    Finance  Female         60500.0   \n",
      "2   Peter   40   60000   2018-01-12         HR    Male         66000.0   \n",
      "3   Linda   33   70000   2016-08-05         IT  Female         77000.0   \n",
      "4  Sophia   25   65000   2019-11-19    Finance  Female         71500.0   \n",
      "\n",
      "            Job Role  \n",
      "0         HR Manager  \n",
      "1  Financial Analyst  \n",
      "2       HR Executive  \n",
      "3         IT Manager  \n",
      "4         Accountant  \n"
     ]
    }
   ],
   "source": [
    "df['Job Role'] = ['HR Manager', 'Financial Analyst', 'HR Executive', 'IT Manager', 'Accountant']\n",
    "print(df)"
   ]
  },
  {
   "cell_type": "markdown",
   "id": "15f30f53-8c66-4dae-a4b3-37b09e9cd2ef",
   "metadata": {},
   "source": [
    "__How to calculate the average salary for each department?__"
   ]
  },
  {
   "cell_type": "code",
   "execution_count": 20,
   "id": "3f6534e1-59f4-4806-900b-e8d359acc4fb",
   "metadata": {},
   "outputs": [
    {
     "name": "stdout",
     "output_type": "stream",
     "text": [
      "Department\n",
      "Finance    60000.0\n",
      "HR         55000.0\n",
      "IT         70000.0\n",
      "Name: Salary, dtype: float64\n"
     ]
    }
   ],
   "source": [
    "print(df.groupby('Department')['Salary'].mean())"
   ]
  },
  {
   "cell_type": "markdown",
   "id": "28f3ffa8-d899-4c75-b54b-616c53405d32",
   "metadata": {},
   "source": [
    "__How to determine which department has the most employees?__"
   ]
  },
  {
   "cell_type": "code",
   "execution_count": 21,
   "id": "8e40d4ce-3af2-478b-8bff-51ff424223a2",
   "metadata": {},
   "outputs": [
    {
     "name": "stdout",
     "output_type": "stream",
     "text": [
      "HR\n"
     ]
    }
   ],
   "source": [
    "print(df['Department'].value_counts().idxmax())"
   ]
  },
  {
   "cell_type": "markdown",
   "id": "5baed68d-f8e3-488a-99ea-b2f5f9b3b6fa",
   "metadata": {},
   "source": [
    "__How to find which department has the most female employees?__"
   ]
  },
  {
   "cell_type": "code",
   "execution_count": 22,
   "id": "4dcbd9d1-4e2b-4bb8-9d7d-7d028ee06398",
   "metadata": {},
   "outputs": [
    {
     "name": "stdout",
     "output_type": "stream",
     "text": [
      "Finance\n"
     ]
    }
   ],
   "source": [
    "print(df[df['Gender'] == 'Female']['Department'].value_counts().idxmax())"
   ]
  },
  {
   "cell_type": "code",
   "execution_count": 23,
   "id": "8a558cd6-4ade-44f5-b215-db3f258eec88",
   "metadata": {},
   "outputs": [
    {
     "name": "stdout",
     "output_type": "stream",
     "text": [
      "     Name   Age  Salary   Join Date Department  Gender\n",
      "0    John  28.0   50000  2015-03-15         HR    Male\n",
      "1    Anna  24.0   55000  2017-07-01    Finance  Female\n",
      "2    None  40.0   60000  2018-01-12         HR    Male\n",
      "3   Linda   NaN   70000  2016-08-05         IT  Female\n",
      "4  Sophia  25.0   65000  2019-11-19    Finance  Female\n"
     ]
    }
   ],
   "source": [
    "data = {\n",
    "\n",
    "'Name': ['John', 'Anna', None, 'Linda', 'Sophia'],\n",
    "\n",
    "'Age': [28, 24, 40, None, 25],\n",
    "\n",
    "'Salary': [50000, 55000, 60000, 70000, 65000],\n",
    "\n",
    "'Join Date': ['2015-03-15', '2017-07-01', '2018-01-12', '2016-08-05', '2019-11-19'],\n",
    "\n",
    "'Department': ['HR', 'Finance', 'HR', 'IT', 'Finance'],\n",
    "\n",
    "'Gender': ['Male', 'Female', 'Male', 'Female', 'Female']\n",
    "\n",
    "}\n",
    "\n",
    "\n",
    "df = pd.DataFrame(data)\n",
    "print(df)"
   ]
  },
  {
   "cell_type": "markdown",
   "id": "76318f20-0648-4ae1-8079-cef0a28b1e72",
   "metadata": {},
   "source": [
    "__How to fill missing values in a column with a specific value (e.g., 'Unknown' for Name)?__"
   ]
  },
  {
   "cell_type": "code",
   "execution_count": 24,
   "id": "b651251b-678c-451f-84cf-3e0aaccb4da0",
   "metadata": {},
   "outputs": [
    {
     "name": "stdout",
     "output_type": "stream",
     "text": [
      "     Name   Age  Salary   Join Date Department  Gender\n",
      "0    John  28.0   50000  2015-03-15         HR    Male\n",
      "1    Anna  24.0   55000  2017-07-01    Finance  Female\n",
      "2    None  40.0   60000  2018-01-12         HR    Male\n",
      "3   Linda   NaN   70000  2016-08-05         IT  Female\n",
      "4  Sophia  25.0   65000  2019-11-19    Finance  Female\n"
     ]
    }
   ],
   "source": [
    "df['Name'].fillna('Unknown')\n",
    "print(df)"
   ]
  },
  {
   "cell_type": "markdown",
   "id": "669274de-f94b-4479-a0a3-6435343e87fd",
   "metadata": {},
   "source": [
    "__How to fill missing numerical values in a column with the mean of that column?__\n",
    "How can rows with missing values be removed from a Pandas DataFrame?"
   ]
  },
  {
   "cell_type": "code",
   "execution_count": null,
   "id": "e8801582-7bbc-405c-ab5e-585758153fb7",
   "metadata": {},
   "outputs": [],
   "source": []
  }
 ],
 "metadata": {
  "kernelspec": {
   "display_name": "Python 3 (ipykernel)",
   "language": "python",
   "name": "python3"
  },
  "language_info": {
   "codemirror_mode": {
    "name": "ipython",
    "version": 3
   },
   "file_extension": ".py",
   "mimetype": "text/x-python",
   "name": "python",
   "nbconvert_exporter": "python",
   "pygments_lexer": "ipython3",
   "version": "3.10.12"
  }
 },
 "nbformat": 4,
 "nbformat_minor": 5
}
